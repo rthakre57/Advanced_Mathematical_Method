{
 "cells": [
  {
   "cell_type": "markdown",
   "id": "8d9344a6-b8e7-4dea-820d-d7431afb537b",
   "metadata": {},
   "source": [
    "## Practical Problem 16"
   ]
  },
  {
   "cell_type": "code",
   "execution_count": 3,
   "id": "acb8d724-9b52-4186-b8c1-0479142f81ca",
   "metadata": {},
   "outputs": [
    {
     "name": "stdout",
     "output_type": "stream",
     "text": [
      "-4.934802200544678\n"
     ]
    }
   ],
   "source": [
    "import numpy as np\n",
    "from scipy.integrate import quad\n",
    "\n",
    "# Define the function f(x)\n",
    "def f(x):\n",
    "    return x**2\n",
    "\n",
    "# Define the range of x values\n",
    "p=2\n",
    "xmin = 0\n",
    "xmax = np.pi\n",
    "num_points = 1000  # Number of points for numerical integration\n",
    "\n",
    "# Define the integrand for Fourier sine transform\n",
    "def integrand(x):\n",
    "    return f(x) * np.sin(p*np.pi * x / xmax)\n",
    "\n",
    "# Function to compute Fourier sine transform at a given frequency w\n",
    "integral, error = quad(integrand, xmin, xmax)\n",
    "print(integral)\n",
    "\n"
   ]
  },
  {
   "cell_type": "code",
   "execution_count": 5,
   "id": "662f8c9b-3fca-422e-a394-46cecab98d97",
   "metadata": {},
   "outputs": [
    {
     "name": "stdout",
     "output_type": "stream",
     "text": [
      "The integral of g(x) is: Piecewise((-1.0*x**2*cos(1.0*p*x)/p + 2.0*x*sin(1.0*p*x)/p**2 + 2.0*cos(1.0*p*x)/p**3, Ne(p, 0)), (0, True))\n"
     ]
    }
   ],
   "source": [
    "from sympy import symbols, integrate, pi\n",
    "import sympy as sp\n",
    "\n",
    "# Define the variable\n",
    "x,p = symbols('x p')\n",
    "\n",
    "# Define the function to integrate\n",
    "def g(x):\n",
    "    return f(x) * sp.sin(p*np.pi * x / xmax)\n",
    "\n",
    "# Integrate the function with respect to x\n",
    "integral_result = integrate(g(x), x)\n",
    "\n",
    "# Print the result\n",
    "print(\"The integral of g(x) is:\", integral_result)\n",
    "\n"
   ]
  },
  {
   "cell_type": "code",
   "execution_count": 6,
   "id": "860dabae-cf39-4a08-aed6-2bb283734e72",
   "metadata": {},
   "outputs": [
    {
     "name": "stdout",
     "output_type": "stream",
     "text": [
      "The definite integral of f(x) = x^2 from 0 to 3.141592653589793 is: Piecewise((-9.86960440108936*cos(3.14159265358979*p)/p + 6.28318530717959*sin(3.14159265358979*p)/p**2 + 2.0*cos(3.14159265358979*p)/p**3 - 2.0/p**3, (p > -oo) & (p < oo) & Ne(p, 0)), (0, True))\n"
     ]
    }
   ],
   "source": [
    "# You can also evaluate the definite integral over a specific interval\n",
    "a = 0  # Lower limit of integration\n",
    "b = np.pi # Upper limit of integration\n",
    "definite_integral_result = integrate(g(x), (x, a, b))\n",
    "\n",
    "# Print the result of the definite integral\n",
    "print(\"The definite integral of f(x) = x^2 from {} to {} is:\".format(a, b), definite_integral_result)\n"
   ]
  },
  {
   "cell_type": "markdown",
   "id": "ba4b534a-f136-4cf4-93c5-3f8aee3285d3",
   "metadata": {},
   "source": [
    "## Practical Problem 16"
   ]
  },
  {
   "cell_type": "code",
   "execution_count": 14,
   "id": "971b6e91-c623-478d-a5bb-c6634ef6e007",
   "metadata": {},
   "outputs": [
    {
     "name": "stdout",
     "output_type": "stream",
     "text": [
      "-1.5707963267948961\n"
     ]
    }
   ],
   "source": [
    "import numpy as np\n",
    "from scipy.integrate import quad\n",
    "\n",
    "# Define the function f(x)\n",
    "def f(x):\n",
    "    return x\n",
    "\n",
    "# Define the range of x values\n",
    "p=2\n",
    "xmin = 0\n",
    "xmax = np.pi\n",
    "num_points = 1000  # Number of points for numerical integration\n",
    "\n",
    "# Define the integrand for Fourier sine transform\n",
    "def integrand(x):\n",
    "    return f(x) * np.sin(p*np.pi * x / xmax)\n",
    "\n",
    "# Function to compute Fourier sine transform at a given frequency w\n",
    "integral, error = quad(integrand, xmin, xmax)\n",
    "print(integral)\n",
    "\n"
   ]
  },
  {
   "cell_type": "code",
   "execution_count": 15,
   "id": "8d505cca-05e5-4f7c-b31b-5559c6b3e22d",
   "metadata": {},
   "outputs": [
    {
     "name": "stdout",
     "output_type": "stream",
     "text": [
      "The integral of g(x) is: Piecewise((0.101321183642338*l**2*sin(3.14159265358979*p*x/l)/p**2 - 0.318309886183791*l*x*cos(3.14159265358979*p*x/l)/p, Ne(p, 0)), (0, True))\n"
     ]
    }
   ],
   "source": [
    "from sympy import symbols, integrate, pi\n",
    "import sympy as sp\n",
    "\n",
    "# Define the variable\n",
    "x,p,l = symbols('x p l')\n",
    "\n",
    "# Define the function to integrate\n",
    "def g(x):\n",
    "    return f(x) * sp.sin(p*np.pi * x / l)\n",
    "\n",
    "# Integrate the function with respect to x\n",
    "integral_result = integrate(g(x), x)\n",
    "\n",
    "# Print the result\n",
    "print(\"The integral of g(x) is:\", integral_result)\n",
    "\n",
    "\n"
   ]
  },
  {
   "cell_type": "code",
   "execution_count": 16,
   "id": "56af51dd-a418-4845-bb71-a9f7ac8c30be",
   "metadata": {},
   "outputs": [
    {
     "name": "stdout",
     "output_type": "stream",
     "text": [
      "The definite integral of g(x) from 0 to l is: Piecewise((-0.318309886183791*l**2*cos(3.14159265358979*p)/p + 0.101321183642338*l**2*sin(3.14159265358979*p)/p**2, (p > -oo) & (p < oo) & Ne(p, 0)), (0, True))\n"
     ]
    }
   ],
   "source": [
    "# You can also evaluate the definite integral over a specific interval\n",
    "a = 0  # Lower limit of integration\n",
    "b = l # Upper limit of integration\n",
    "definite_integral_result = integrate(g(x), (x, a, b))\n",
    "\n",
    "# Print the result of the definite integral\n",
    "print(\"The definite integral of g(x) from {} to {} is:\".format(a, b), definite_integral_result)\n"
   ]
  },
  {
   "cell_type": "code",
   "execution_count": null,
   "id": "c49871a9-9feb-413e-891c-8dab4ae4b3b4",
   "metadata": {},
   "outputs": [],
   "source": []
  }
 ],
 "metadata": {
  "kernelspec": {
   "display_name": "Python 3 (ipykernel)",
   "language": "python",
   "name": "python3"
  },
  "language_info": {
   "codemirror_mode": {
    "name": "ipython",
    "version": 3
   },
   "file_extension": ".py",
   "mimetype": "text/x-python",
   "name": "python",
   "nbconvert_exporter": "python",
   "pygments_lexer": "ipython3",
   "version": "3.12.4"
  }
 },
 "nbformat": 4,
 "nbformat_minor": 5
}
