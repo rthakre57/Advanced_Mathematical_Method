{
 "cells": [
  {
   "cell_type": "markdown",
   "id": "6d681664-df06-486b-885b-866ad57b6017",
   "metadata": {},
   "source": [
    "## Practical Problem 5"
   ]
  },
  {
   "cell_type": "code",
   "execution_count": 2,
   "id": "7a2bedea-23c2-4f04-945c-7157ff9fb616",
   "metadata": {},
   "outputs": [
    {
     "name": "stdin",
     "output_type": "stream",
     "text": [
      "Enter the value of n (>0):  5\n"
     ]
    },
    {
     "name": "stdout",
     "output_type": "stream",
     "text": [
      "The Laplace transform of t^5 is: (120/s**6, 0, True)\n",
      "In simplified form: 120/s**6\n"
     ]
    }
   ],
   "source": [
    "import sympy as sp\n",
    "\n",
    "def laplace_transform_tn(n):\n",
    "    s, t = sp.symbols('s t')\n",
    "    laplace = sp.laplace_transform(t**n, t, s)\n",
    "    factorial_n = sp.factorial(n)\n",
    "    return factorial_n / (s ** (n + 1)), laplace\n",
    "\n",
    "def main():\n",
    "    n = int(input(\"Enter the value of n (>0): \"))\n",
    "    if n <= 0:\n",
    "        print(\"Please enter a value of n greater than 0.\")\n",
    "        return\n",
    "    else:\n",
    "        result, laplace_expr = laplace_transform_tn(n)\n",
    "        print(f\"The Laplace transform of t^{n} is: {laplace_expr}\")\n",
    "        print(f\"In simplified form: {result}\")\n",
    "\n",
    "if __name__ == \"__main__\":\n",
    "    main()\n"
   ]
  },
  {
   "cell_type": "markdown",
   "id": "647d074d-c5bd-4754-92ef-d78aae1a031c",
   "metadata": {},
   "source": [
    "## Practical Problem 6"
   ]
  },
  {
   "cell_type": "code",
   "execution_count": 4,
   "id": "09d6c482-9728-4375-a856-85a08a715686",
   "metadata": {},
   "outputs": [
    {
     "name": "stdin",
     "output_type": "stream",
     "text": [
      "Enter the value of a:  2\n",
      "Enter the value of b:  5\n"
     ]
    },
    {
     "name": "stdout",
     "output_type": "stream",
     "text": [
      "The Laplace transform of e^(2.0t)sin(5.0t) is: 5.0/(4.0*(0.5*s - 1)**2 + 25.0)\n",
      "The Laplace transform of e^(2.0t)cos(5.0t) is: (s - 2.0)/(4.0*(0.5*s - 1)**2 + 25.0)\n"
     ]
    }
   ],
   "source": [
    "import sympy as sp\n",
    "\n",
    "def laplace_transform_exp_sin(a, b):\n",
    "    s, t = sp.symbols('s t')\n",
    "    laplace = b / ((s - a)**2 + b**2)\n",
    "    return laplace\n",
    "\n",
    "def laplace_transform_exp_cos(a, b):\n",
    "    s, t = sp.symbols('s t')\n",
    "    laplace = (s - a) / ((s - a)**2 + b**2)\n",
    "    return laplace\n",
    "\n",
    "def main():\n",
    "    a = float(input(\"Enter the value of a: \"))\n",
    "    b = float(input(\"Enter the value of b: \"))\n",
    "    \n",
    "    laplace_exp_sin = laplace_transform_exp_sin(a, b)\n",
    "    laplace_exp_cos = laplace_transform_exp_cos(a, b)\n",
    "    \n",
    "    print(f\"The Laplace transform of e^({a}t)sin({b}t) is: {laplace_exp_sin}\")\n",
    "    print(f\"The Laplace transform of e^({a}t)cos({b}t) is: {laplace_exp_cos}\")\n",
    "\n",
    "if __name__ == \"__main__\":\n",
    "    main()\n"
   ]
  },
  {
   "cell_type": "markdown",
   "id": "0ba03fdd-395d-42f9-9acb-2df81d8b767f",
   "metadata": {},
   "source": [
    "## Practical Problem 7"
   ]
  },
  {
   "cell_type": "code",
   "execution_count": 5,
   "id": "9cf74f26-ccd4-41a5-a41e-41038a544f4b",
   "metadata": {},
   "outputs": [
    {
     "name": "stdin",
     "output_type": "stream",
     "text": [
      "Enter the value of n (positive integer):  2\n"
     ]
    },
    {
     "name": "stdout",
     "output_type": "stream",
     "text": [
      "The Laplace transform of t^2 * exp(5*t) is: 2/(s - 5)**3\n",
      "The Laplace transform of t^2 * cos(5*t) is: 2*s*(4*s**2/(s**2 + 25) - 3)/(s**2 + 25)**2\n",
      "The Laplace transform of t^2 * sin(5*t) is: 10*(4*s**2/(s**2 + 25) - 1)/(s**2 + 25)**2\n"
     ]
    }
   ],
   "source": [
    "import sympy as sp\n",
    "\n",
    "def laplace_transform(n, f_t):\n",
    "    s, t = sp.symbols('s t ')\n",
    "    F_s = sp.laplace_transform(f_t, t, s)[0]\n",
    "    laplace = ((-1) ** n) * F_s.diff(s, n)\n",
    "    return laplace\n",
    "\n",
    "def main():\n",
    "    n = int(input(\"Enter the value of n (positive integer): \"))\n",
    "    if n <= 0:\n",
    "        print(\"Please enter a positive integer value of n.\")\n",
    "        return\n",
    "    \n",
    "    #f_t = input(\"Enter the function f(t) in terms of t: \")\n",
    "    t=sp.symbols('t')\n",
    "    f_t=sp.exp(5*t) \n",
    "    laplace_result = laplace_transform(n, f_t)\n",
    "    print(f\"The Laplace transform of t^{n} * {f_t} is: {laplace_result}\")\n",
    "    f_t=sp.cos(5*t)\n",
    "    laplace_result = laplace_transform(n, f_t)\n",
    "    print(f\"The Laplace transform of t^{n} * {f_t} is: {laplace_result}\")\n",
    "    f_t=sp.sin(5*t)\n",
    "    laplace_result = laplace_transform(n, f_t)\n",
    "    print(f\"The Laplace transform of t^{n} * {f_t} is: {laplace_result}\")\n",
    "\n",
    "\n",
    "if __name__ == \"__main__\":\n",
    "    main()\n"
   ]
  },
  {
   "cell_type": "markdown",
   "id": "f9ad5bc1-5094-44ef-9a6c-d228a7600828",
   "metadata": {},
   "source": [
    "## Practical Problem 8"
   ]
  },
  {
   "cell_type": "code",
   "execution_count": 6,
   "id": "e411334f-6808-49e0-b55a-28a0e6f93b6d",
   "metadata": {},
   "outputs": [
    {
     "name": "stdout",
     "output_type": "stream",
     "text": [
      "Function: cos(3*t)\n",
      "Laplace Transform: s/(s**2 + 9)\n",
      "Integral of F(s) from s to infinity: -log(s**2 + 9)/2 + oo\n",
      "\n",
      "Function: sin(3*t)\n",
      "Laplace Transform: 3/(s**2 + 9)\n",
      "Integral of F(s) from s to infinity: -atan(s/3) + pi/2\n",
      "\n",
      "Function: exp(-4*t)*sin(3*t)\n",
      "Laplace Transform: 3/((s + 4)**2 + 9)\n",
      "Integral of F(s) from s to infinity: -atan(s/3 + 4/3) + pi/2\n",
      "\n"
     ]
    }
   ],
   "source": [
    "import sympy as sp\n",
    "\n",
    "def laplace_transform(f_t, t, s):\n",
    "    return sp.laplace_transform(f_t, t, s, noconds=True)\n",
    "\n",
    "def main():\n",
    "    t, s = sp.symbols('t s')\n",
    "    \n",
    "    # Define the functions\n",
    "    functions = {\n",
    "        'cos(3*t)': sp.cos(3*t),\n",
    "        'sin(3*t)': sp.sin(3*t),\n",
    "        'exp(-4*t)*sin(3*t)': sp.exp(-4*t) * sp.sin(3*t)\n",
    "    }\n",
    "    \n",
    "    for name, f_t in functions.items():\n",
    "        print(\"Function:\", name)\n",
    "        F_s = laplace_transform(f_t, t, s)\n",
    "        laplace_integral = sp.integrate(F_s, (s, s, sp.oo))\n",
    "        \n",
    "        print(\"Laplace Transform:\", F_s)\n",
    "        print(\"Integral of F(s) from s to infinity:\", laplace_integral)\n",
    "        print()\n",
    "\n",
    "if __name__ == \"__main__\":\n",
    "    main()\n"
   ]
  },
  {
   "cell_type": "markdown",
   "id": "537281be-7c13-4a4e-85cb-f186f09bd058",
   "metadata": {},
   "source": [
    "## Practical Problem 9"
   ]
  },
  {
   "cell_type": "code",
   "execution_count": 8,
   "id": "58593369-eebb-457e-8584-a9fd2afdef69",
   "metadata": {},
   "outputs": [
    {
     "name": "stdout",
     "output_type": "stream",
     "text": [
      "Periodic Function: exp(t)\n",
      "Laplace Transform of the Periodic Function: Piecewise((-exp(2*pi)/(s*exp(2*pi*s) - exp(2*pi*s)) + 1/(s - 1), (s > -oo) & (s < oo) & Ne(s, 1)), (2*pi, True))/(1 - exp(-2*pi*s))\n"
     ]
    }
   ],
   "source": [
    "import sympy as sp\n",
    "\n",
    "def laplace_transform(f_t, t, s, T):\n",
    "    integral = sp.integrate(sp.exp(-s*t) * f_t, (t, 0, T))\n",
    "    return (1 / (1 - sp.exp(-s * T))) * integral\n",
    "\n",
    "def main():\n",
    "    t, s = sp.symbols('t s')\n",
    "    \n",
    "    # Define the periodic function\n",
    "    T = 2 * sp.pi  # Period\n",
    "    f_t = sp.exp(t)\n",
    "    \n",
    "    # Compute the Laplace transform of f(t)\n",
    "    F_s = laplace_transform(f_t, t, s, T)\n",
    "    \n",
    "    print(\"Periodic Function:\", f_t)\n",
    "    print(\"Laplace Transform of the Periodic Function:\", F_s)\n",
    "\n",
    "if __name__ == \"__main__\":\n",
    "    main()\n"
   ]
  },
  {
   "cell_type": "code",
   "execution_count": null,
   "id": "7be841f5-0a68-4674-89d8-aa87f5e21cbc",
   "metadata": {},
   "outputs": [],
   "source": []
  }
 ],
 "metadata": {
  "kernelspec": {
   "display_name": "Python 3 (ipykernel)",
   "language": "python",
   "name": "python3"
  },
  "language_info": {
   "codemirror_mode": {
    "name": "ipython",
    "version": 3
   },
   "file_extension": ".py",
   "mimetype": "text/x-python",
   "name": "python",
   "nbconvert_exporter": "python",
   "pygments_lexer": "ipython3",
   "version": "3.12.4"
  }
 },
 "nbformat": 4,
 "nbformat_minor": 5
}
