{
 "cells": [
  {
   "cell_type": "markdown",
   "id": "2273273a-3f70-4bb0-81ec-ca96ef396abf",
   "metadata": {},
   "source": [
    "## Practical Problem 10"
   ]
  },
  {
   "cell_type": "code",
   "execution_count": 4,
   "id": "3e967d7e-ca98-4093-b70e-d199239d8ef3",
   "metadata": {},
   "outputs": [
    {
     "name": "stdout",
     "output_type": "stream",
     "text": [
      "Partial Fraction Decomposition: -1/(s**2 + 4) + 1/(s - 1) - 1/s\n",
      "Inverse Laplace Transform:\n",
      "Term 1: -sin(2*t)*Heaviside(t)/2\n",
      "Term 2: exp(t)*Heaviside(t)\n",
      "Term 3: -Heaviside(t)\n",
      "Inverse Laplace transform of (s + 4) / (s * (s - 1) * (s**2 + 4)) is  exp(t)*Heaviside(t) - sin(2*t)*Heaviside(t)/2 - Heaviside(t)\n"
     ]
    }
   ],
   "source": [
    "import sympy as sp\n",
    "\n",
    "def partial_fraction_decomposition(expr, var):\n",
    "    return sp.apart(expr, var)\n",
    "\n",
    "def inverse_laplace_transform(expr, s, t):\n",
    "    return sp.inverse_laplace_transform(expr, s, t)\n",
    "\n",
    "def main():\n",
    "    s, t = sp.symbols('s t')\n",
    "\n",
    "    # Define the expression\n",
    "    expr = (s + 4) / (s * (s - 1) * (s**2 + 4))\n",
    "\n",
    "    # Perform partial fraction decomposition\n",
    "    partial_frac_expr = partial_fraction_decomposition(expr, s)\n",
    "    \n",
    "    # Find inverse Laplace transform of each term\n",
    "    inverse_transforms = []\n",
    "    for term in partial_frac_expr.as_ordered_terms():\n",
    "        inverse_transform = inverse_laplace_transform(term, s, t)\n",
    "        inverse_transforms.append(inverse_transform)\n",
    "    \n",
    "    print(\"Partial Fraction Decomposition:\", partial_frac_expr)\n",
    "    print(\"Inverse Laplace Transform:\")\n",
    "    for idx, inverse_transform in enumerate(inverse_transforms):\n",
    "        print(\"Term {}: {}\".format(idx+1, inverse_transform))\n",
    "    \n",
    "    summation=sp.Add(*inverse_transforms)\n",
    "    print(\"Inverse Laplace transform of (s + 4) / (s * (s - 1) * (s**2 + 4)) is \",summation) \n",
    "if __name__ == \"__main__\":\n",
    "    main()\n"
   ]
  },
  {
   "cell_type": "markdown",
   "id": "b94ca7e6-ae8b-4a46-ad79-f2726597f846",
   "metadata": {},
   "source": [
    "## Practical Problem 11"
   ]
  },
  {
   "cell_type": "code",
   "execution_count": 5,
   "id": "c5bac10f-5b07-465d-8f94-7443637997f9",
   "metadata": {},
   "outputs": [
    {
     "name": "stdout",
     "output_type": "stream",
     "text": [
      "sin(5*a)/a\n",
      "Inverse Laplace Transform (Term 1): cos(a*t)\n",
      "Inverse Laplace Transform (Term 2): cos(b*t)\n",
      "Convolution of Inverse Laplace Transforms: Piecewise((a*sin(a*t)/(a**2 - b**2) + (a*sin(a*t)*cos(b*t)/(a**2 - b**2) - b*sin(b*t)*cos(a*t)/(a**2 - b**2))*cos(a*t) + (-a*cos(a*t)*cos(b*t)/(a**2 - b**2) - b*sin(a*t)*sin(b*t)/(a**2 - b**2))*sin(a*t), Ne(a, b)), ((t*sin(b*t)**2/2 + t*cos(b*t)**2/2 + sin(b*t)*cos(b*t)/(2*b))*cos(a*t) - sin(a*t)*cos(b*t)**2/(2*b) + sin(a*t)/(2*b), True))\n"
     ]
    }
   ],
   "source": [
    "from sympy.integrals.transforms import inverse_laplace_transform\n",
    "from sympy import exp, Symbol, sin , cos\n",
    "from sympy.abc import s, t, a, b\n",
    " \n",
    "a = Symbol('a', positive = True)\n",
    "# Using inverse_laplace_transform() method\n",
    "gfg = inverse_laplace_transform(1/(s**2 + a**2), s, 5)\n",
    " \n",
    "print(gfg)\n",
    "\n",
    "import sympy as sp\n",
    "\n",
    "s, t, a, b = sp.symbols('s t a b',positive = True)\n",
    "\n",
    "# Define the expression\n",
    "expr = s**2 / ((s**2 + a**2) * (s**2 + b**2))\n",
    "\n",
    "# Define the simpler terms\n",
    "#term_1 = s / (s**2 + a**2)\n",
    "#term_2 = s / (s**2 + b**2)\n",
    "\n",
    "# Find inverse Laplace transforms of simpler terms\n",
    "inverse_transform_1 = inverse_laplace_transform(s / (s**2 + a**2), s, t)\n",
    "inverse_transform_2 = inverse_laplace_transform(s / (s**2 + b**2), s, t)\n",
    "\n",
    "#inverse_transform_1 = sp.cos(a*t)\n",
    "#inverse_transform_2 = sp.cos(b*t)\n",
    "\n",
    "# Convolution of inverse transforms\n",
    "x=sp.symbols('x')\n",
    "convolution = sp.integrate(inverse_transform_1.subs(t, t - x) * inverse_transform_2.subs(t, x), (x, 0, t))\n",
    "\n",
    "print(\"Inverse Laplace Transform (Term 1):\", inverse_transform_1)\n",
    "print(\"Inverse Laplace Transform (Term 2):\", inverse_transform_2)\n",
    "print(\"Convolution of Inverse Laplace Transforms:\", convolution)\n"
   ]
  },
  {
   "cell_type": "code",
   "execution_count": null,
   "id": "14a13073-c473-4fa1-9595-c0c093dae4f3",
   "metadata": {},
   "outputs": [],
   "source": []
  }
 ],
 "metadata": {
  "kernelspec": {
   "display_name": "Python 3 (ipykernel)",
   "language": "python",
   "name": "python3"
  },
  "language_info": {
   "codemirror_mode": {
    "name": "ipython",
    "version": 3
   },
   "file_extension": ".py",
   "mimetype": "text/x-python",
   "name": "python",
   "nbconvert_exporter": "python",
   "pygments_lexer": "ipython3",
   "version": "3.12.4"
  }
 },
 "nbformat": 4,
 "nbformat_minor": 5
}
